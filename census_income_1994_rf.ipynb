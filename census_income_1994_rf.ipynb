{
 "cells": [
  {
   "cell_type": "markdown",
   "metadata": {},
   "source": [
    "# Random Forest Model for Income Classification\n",
    "\n",
    "**Objective:** This project aimed to build and fine-tune a Random Forest model for income classification based on census data from the 1994 Census database. The primary goal was to predict whether an individual earns more than $50,000 annually using this dataset.\n",
    "\n",
    "Data source: [UCI Machine Learning Repository - Census Income](https://archive.ics.uci.edu/dataset/20/census+income)\n",
    "\n",
    "**Project Highlights:**\n",
    "\n",
    "1. **Exploratory Data Analysis (EDA):** The project began with data exploration to understand the income distribution. It was found that about 77% of the sample had incomes less than $50,000, while 24% had incomes greater than $50,000.\n",
    "\n",
    "2. **Feature Selection:** Key features were selected for building the Random Forest model, including 'age,' 'capital-gain,' 'capital-loss,' 'hours-per-week,' 'sex,' and 'race.' Categorical variables were converted into binary features using one-hot encoding.\n",
    "\n",
    "3. **Baseline Model:** A baseline Random Forest model was created with default parameters, resulting in an initial accuracy score on the test set. The accuracy score for the default model was approximately 85.196%.\n",
    "\n",
    "4. **Hyperparameter Tuning:** The Random Forest model was fine-tuned by testing its performance over a range of `max_depth` values from 1 to 25. The accuracy scores for both the training and test sets were recorded for each `max_depth` value.\n",
    "\n",
    "5. **Optimal Max_Depth Selection:** The `max_depth` value that yielded the highest accuracy on the test set was identified as the optimal value. In this case, the highest test accuracy was achieved when `max_depth` was set to 12, resulting in an accuracy score of approximately 86.276% on the test set.\n",
    "\n",
    "6. **Feature Importance Analysis:** The importance of each feature in predicting income status was analyzed using the Random Forest model. The top five features by importance were identified as 'capital-gain,' 'age,' 'hours-per-week,' 'capital-loss,' and 'sex_Male.'\n",
    "\n",
    "7. **Additional Feature Engineering:** The 'education' feature was further analyzed, and new features, 'education_bin,' were created by binning education levels into three groups: 'HS or less,' 'College to Bachelors,' and 'Masters or more.' The model was then re-tuned with these additional features.\n",
    "\n",
    "8. **Re-Tuning and Model Improvement:** The Random Forest model was re-tuned with the new features and tested with different `max_depth` values from 1 to 9. The optimal `max_depth` was identified as 9, resulting in an improved test accuracy of approximately 86.446%.\n",
    "\n",
    "9. **Final Model and Feature Importance:** The final Random Forest model with the optimal `max_depth` of 9 was saved. Feature importances were analyzed again, revealing that having a 'Masters degree or more' was among the top predictors for income classification.\n",
    "\n",
    "**Conclusion:** This project demonstrated the process of building and optimizing a Random Forest model for income classification. It showcased the importance of hyperparameter tuning and feature engineering in improving model accuracy. Ultimately, the model successfully identified key features that influence income classification, providing valuable insights for future income prediction tasks."
   ]
  },
  {
   "cell_type": "markdown",
   "metadata": {},
   "source": [
    "-----"
   ]
  },
  {
   "cell_type": "markdown",
   "metadata": {},
   "source": [
    "## Importing Libraries"
   ]
  },
  {
   "cell_type": "code",
   "execution_count": 3,
   "metadata": {},
   "outputs": [],
   "source": [
    "import pandas as pd\n",
    "import numpy as np\n",
    "import matplotlib.pyplot as plt\n",
    "import seaborn as sns\n",
    "from sklearn.model_selection import train_test_split\n",
    "from sklearn.tree import DecisionTreeClassifier\n",
    "from sklearn.ensemble import RandomForestClassifier, BaggingClassifier, RandomForestRegressor\n",
    "from sklearn import tree\n",
    "from sklearn.linear_model import LogisticRegression\n",
    "from sklearn.metrics import accuracy_score"
   ]
  },
  {
   "cell_type": "markdown",
   "metadata": {},
   "source": [
    "## Read Data"
   ]
  },
  {
   "cell_type": "code",
   "execution_count": 21,
   "metadata": {},
   "outputs": [
    {
     "data": {
      "text/html": [
       "<div>\n",
       "<style scoped>\n",
       "    .dataframe tbody tr th:only-of-type {\n",
       "        vertical-align: middle;\n",
       "    }\n",
       "\n",
       "    .dataframe tbody tr th {\n",
       "        vertical-align: top;\n",
       "    }\n",
       "\n",
       "    .dataframe thead th {\n",
       "        text-align: right;\n",
       "    }\n",
       "</style>\n",
       "<table border=\"1\" class=\"dataframe\">\n",
       "  <thead>\n",
       "    <tr style=\"text-align: right;\">\n",
       "      <th></th>\n",
       "      <th>age</th>\n",
       "      <th>workclass</th>\n",
       "      <th>fnlwgt</th>\n",
       "      <th>education</th>\n",
       "      <th>education-num</th>\n",
       "      <th>marital-status</th>\n",
       "      <th>occupation</th>\n",
       "      <th>relationship</th>\n",
       "      <th>race</th>\n",
       "      <th>sex</th>\n",
       "      <th>capital-gain</th>\n",
       "      <th>capital-loss</th>\n",
       "      <th>hours-per-week</th>\n",
       "      <th>native-country</th>\n",
       "      <th>income</th>\n",
       "    </tr>\n",
       "  </thead>\n",
       "  <tbody>\n",
       "    <tr>\n",
       "      <th>0</th>\n",
       "      <td>39</td>\n",
       "      <td>State-gov</td>\n",
       "      <td>77516</td>\n",
       "      <td>Bachelors</td>\n",
       "      <td>13</td>\n",
       "      <td>Never-married</td>\n",
       "      <td>Adm-clerical</td>\n",
       "      <td>Not-in-family</td>\n",
       "      <td>White</td>\n",
       "      <td>Male</td>\n",
       "      <td>2174</td>\n",
       "      <td>0</td>\n",
       "      <td>40</td>\n",
       "      <td>United-States</td>\n",
       "      <td>&lt;=50K</td>\n",
       "    </tr>\n",
       "    <tr>\n",
       "      <th>1</th>\n",
       "      <td>50</td>\n",
       "      <td>Self-emp-not-inc</td>\n",
       "      <td>83311</td>\n",
       "      <td>Bachelors</td>\n",
       "      <td>13</td>\n",
       "      <td>Married-civ-spouse</td>\n",
       "      <td>Exec-managerial</td>\n",
       "      <td>Husband</td>\n",
       "      <td>White</td>\n",
       "      <td>Male</td>\n",
       "      <td>0</td>\n",
       "      <td>0</td>\n",
       "      <td>13</td>\n",
       "      <td>United-States</td>\n",
       "      <td>&lt;=50K</td>\n",
       "    </tr>\n",
       "    <tr>\n",
       "      <th>2</th>\n",
       "      <td>38</td>\n",
       "      <td>Private</td>\n",
       "      <td>215646</td>\n",
       "      <td>HS-grad</td>\n",
       "      <td>9</td>\n",
       "      <td>Divorced</td>\n",
       "      <td>Handlers-cleaners</td>\n",
       "      <td>Not-in-family</td>\n",
       "      <td>White</td>\n",
       "      <td>Male</td>\n",
       "      <td>0</td>\n",
       "      <td>0</td>\n",
       "      <td>40</td>\n",
       "      <td>United-States</td>\n",
       "      <td>&lt;=50K</td>\n",
       "    </tr>\n",
       "    <tr>\n",
       "      <th>3</th>\n",
       "      <td>53</td>\n",
       "      <td>Private</td>\n",
       "      <td>234721</td>\n",
       "      <td>11th</td>\n",
       "      <td>7</td>\n",
       "      <td>Married-civ-spouse</td>\n",
       "      <td>Handlers-cleaners</td>\n",
       "      <td>Husband</td>\n",
       "      <td>Black</td>\n",
       "      <td>Male</td>\n",
       "      <td>0</td>\n",
       "      <td>0</td>\n",
       "      <td>40</td>\n",
       "      <td>United-States</td>\n",
       "      <td>&lt;=50K</td>\n",
       "    </tr>\n",
       "    <tr>\n",
       "      <th>4</th>\n",
       "      <td>28</td>\n",
       "      <td>Private</td>\n",
       "      <td>338409</td>\n",
       "      <td>Bachelors</td>\n",
       "      <td>13</td>\n",
       "      <td>Married-civ-spouse</td>\n",
       "      <td>Prof-specialty</td>\n",
       "      <td>Wife</td>\n",
       "      <td>Black</td>\n",
       "      <td>Female</td>\n",
       "      <td>0</td>\n",
       "      <td>0</td>\n",
       "      <td>40</td>\n",
       "      <td>Cuba</td>\n",
       "      <td>&lt;=50K</td>\n",
       "    </tr>\n",
       "    <tr>\n",
       "      <th>...</th>\n",
       "      <td>...</td>\n",
       "      <td>...</td>\n",
       "      <td>...</td>\n",
       "      <td>...</td>\n",
       "      <td>...</td>\n",
       "      <td>...</td>\n",
       "      <td>...</td>\n",
       "      <td>...</td>\n",
       "      <td>...</td>\n",
       "      <td>...</td>\n",
       "      <td>...</td>\n",
       "      <td>...</td>\n",
       "      <td>...</td>\n",
       "      <td>...</td>\n",
       "      <td>...</td>\n",
       "    </tr>\n",
       "    <tr>\n",
       "      <th>32556</th>\n",
       "      <td>27</td>\n",
       "      <td>Private</td>\n",
       "      <td>257302</td>\n",
       "      <td>Assoc-acdm</td>\n",
       "      <td>12</td>\n",
       "      <td>Married-civ-spouse</td>\n",
       "      <td>Tech-support</td>\n",
       "      <td>Wife</td>\n",
       "      <td>White</td>\n",
       "      <td>Female</td>\n",
       "      <td>0</td>\n",
       "      <td>0</td>\n",
       "      <td>38</td>\n",
       "      <td>United-States</td>\n",
       "      <td>&lt;=50K</td>\n",
       "    </tr>\n",
       "    <tr>\n",
       "      <th>32557</th>\n",
       "      <td>40</td>\n",
       "      <td>Private</td>\n",
       "      <td>154374</td>\n",
       "      <td>HS-grad</td>\n",
       "      <td>9</td>\n",
       "      <td>Married-civ-spouse</td>\n",
       "      <td>Machine-op-inspct</td>\n",
       "      <td>Husband</td>\n",
       "      <td>White</td>\n",
       "      <td>Male</td>\n",
       "      <td>0</td>\n",
       "      <td>0</td>\n",
       "      <td>40</td>\n",
       "      <td>United-States</td>\n",
       "      <td>&gt;50K</td>\n",
       "    </tr>\n",
       "    <tr>\n",
       "      <th>32558</th>\n",
       "      <td>58</td>\n",
       "      <td>Private</td>\n",
       "      <td>151910</td>\n",
       "      <td>HS-grad</td>\n",
       "      <td>9</td>\n",
       "      <td>Widowed</td>\n",
       "      <td>Adm-clerical</td>\n",
       "      <td>Unmarried</td>\n",
       "      <td>White</td>\n",
       "      <td>Female</td>\n",
       "      <td>0</td>\n",
       "      <td>0</td>\n",
       "      <td>40</td>\n",
       "      <td>United-States</td>\n",
       "      <td>&lt;=50K</td>\n",
       "    </tr>\n",
       "    <tr>\n",
       "      <th>32559</th>\n",
       "      <td>22</td>\n",
       "      <td>Private</td>\n",
       "      <td>201490</td>\n",
       "      <td>HS-grad</td>\n",
       "      <td>9</td>\n",
       "      <td>Never-married</td>\n",
       "      <td>Adm-clerical</td>\n",
       "      <td>Own-child</td>\n",
       "      <td>White</td>\n",
       "      <td>Male</td>\n",
       "      <td>0</td>\n",
       "      <td>0</td>\n",
       "      <td>20</td>\n",
       "      <td>United-States</td>\n",
       "      <td>&lt;=50K</td>\n",
       "    </tr>\n",
       "    <tr>\n",
       "      <th>32560</th>\n",
       "      <td>52</td>\n",
       "      <td>Self-emp-inc</td>\n",
       "      <td>287927</td>\n",
       "      <td>HS-grad</td>\n",
       "      <td>9</td>\n",
       "      <td>Married-civ-spouse</td>\n",
       "      <td>Exec-managerial</td>\n",
       "      <td>Wife</td>\n",
       "      <td>White</td>\n",
       "      <td>Female</td>\n",
       "      <td>15024</td>\n",
       "      <td>0</td>\n",
       "      <td>40</td>\n",
       "      <td>United-States</td>\n",
       "      <td>&gt;50K</td>\n",
       "    </tr>\n",
       "  </tbody>\n",
       "</table>\n",
       "<p>32561 rows × 15 columns</p>\n",
       "</div>"
      ],
      "text/plain": [
       "       age         workclass  fnlwgt   education  education-num  \\\n",
       "0       39         State-gov   77516   Bachelors             13   \n",
       "1       50  Self-emp-not-inc   83311   Bachelors             13   \n",
       "2       38           Private  215646     HS-grad              9   \n",
       "3       53           Private  234721        11th              7   \n",
       "4       28           Private  338409   Bachelors             13   \n",
       "...    ...               ...     ...         ...            ...   \n",
       "32556   27           Private  257302  Assoc-acdm             12   \n",
       "32557   40           Private  154374     HS-grad              9   \n",
       "32558   58           Private  151910     HS-grad              9   \n",
       "32559   22           Private  201490     HS-grad              9   \n",
       "32560   52      Self-emp-inc  287927     HS-grad              9   \n",
       "\n",
       "           marital-status         occupation   relationship   race     sex  \\\n",
       "0           Never-married       Adm-clerical  Not-in-family  White    Male   \n",
       "1      Married-civ-spouse    Exec-managerial        Husband  White    Male   \n",
       "2                Divorced  Handlers-cleaners  Not-in-family  White    Male   \n",
       "3      Married-civ-spouse  Handlers-cleaners        Husband  Black    Male   \n",
       "4      Married-civ-spouse     Prof-specialty           Wife  Black  Female   \n",
       "...                   ...                ...            ...    ...     ...   \n",
       "32556  Married-civ-spouse       Tech-support           Wife  White  Female   \n",
       "32557  Married-civ-spouse  Machine-op-inspct        Husband  White    Male   \n",
       "32558             Widowed       Adm-clerical      Unmarried  White  Female   \n",
       "32559       Never-married       Adm-clerical      Own-child  White    Male   \n",
       "32560  Married-civ-spouse    Exec-managerial           Wife  White  Female   \n",
       "\n",
       "       capital-gain  capital-loss  hours-per-week native-country income  \n",
       "0              2174             0              40  United-States  <=50K  \n",
       "1                 0             0              13  United-States  <=50K  \n",
       "2                 0             0              40  United-States  <=50K  \n",
       "3                 0             0              40  United-States  <=50K  \n",
       "4                 0             0              40           Cuba  <=50K  \n",
       "...             ...           ...             ...            ...    ...  \n",
       "32556             0             0              38  United-States  <=50K  \n",
       "32557             0             0              40  United-States   >50K  \n",
       "32558             0             0              40  United-States  <=50K  \n",
       "32559             0             0              20  United-States  <=50K  \n",
       "32560         15024             0              40  United-States   >50K  \n",
       "\n",
       "[32561 rows x 15 columns]"
      ]
     },
     "execution_count": 21,
     "metadata": {},
     "output_type": "execute_result"
    }
   ],
   "source": [
    "# Define the column names for the dataset\n",
    "col_names = ['age', 'workclass', 'fnlwgt', 'education', 'education-num', \n",
    "             'marital-status', 'occupation', 'relationship', 'race', 'sex',\n",
    "             'capital-gain', 'capital-loss', 'hours-per-week', 'native-country', 'income']\n",
    "\n",
    "# Read the CSV dataset into a pandas DataFrame with specified column names\n",
    "df = pd.read_csv('dataset/adult.data', header=None, names=col_names)\n",
    "\n",
    "# Clean columns by stripping extra whitespace for columns of type \"object\"; “ United-States” to “United-States”\n",
    "for c in df.select_dtypes(include=['object']).columns:\n",
    "    df[c] = df[c].str.strip()\n",
    "df"
   ]
  },
  {
   "cell_type": "markdown",
   "metadata": {},
   "source": [
    "## Data Inspection"
   ]
  },
  {
   "cell_type": "code",
   "execution_count": 5,
   "metadata": {},
   "outputs": [
    {
     "name": "stdout",
     "output_type": "stream",
     "text": [
      "income\n",
      "<=50K    0.75919\n",
      ">50K     0.24081\n",
      "Name: proportion, dtype: float64\n"
     ]
    }
   ],
   "source": [
    "# Distribution of income\n",
    "print(df.income.value_counts(normalize=True))"
   ]
  },
  {
   "cell_type": "markdown",
   "metadata": {},
   "source": [
    "**Summary:** <br>\n",
    "About 77% of the sample have incomes less than 50k and only 24% have an income greater than 50k."
   ]
  },
  {
   "cell_type": "code",
   "execution_count": 8,
   "metadata": {},
   "outputs": [],
   "source": [
    "# Select features and output variable\n",
    "feature_cols = ['age', 'capital-gain', 'capital-loss', 'hours-per-week', 'sex','race']\n",
    "\n",
    "# Create feature dataframe X with feature columns and dummy variables for categorical features\n",
    "X = pd.get_dummies(df[feature_cols], drop_first=True)\n",
    "\n",
    "# Create output variable y which is binary, 0 when income is less than 50k, 1 when it is greather than 50k\n",
    "y = np.where(df.income=='<=50K', 0, 1)\n",
    "\n",
    "# Split data into a train and test set\n",
    "x_train, x_test, y_train, y_test = train_test_split(X,y, random_state=1, test_size=.2)"
   ]
  },
  {
   "cell_type": "markdown",
   "metadata": {},
   "source": [
    "## Build and Tune Random Forest Classifiers by Depth"
   ]
  },
  {
   "cell_type": "markdown",
   "metadata": {},
   "source": [
    "### Baseline Model"
   ]
  },
  {
   "cell_type": "code",
   "execution_count": 10,
   "metadata": {},
   "outputs": [
    {
     "name": "stdout",
     "output_type": "stream",
     "text": [
      "Accuracy score for default random forest: 82.005%\n"
     ]
    }
   ],
   "source": [
    "# Instantiate random forest classifier, fit and score with default parameters\n",
    "rf = RandomForestClassifier()\n",
    "rf.fit(x_train, y_train)\n",
    "rf.score(x_test, y_test)\n",
    "print(f'Accuracy score for default random forest: {round(rf.score(x_test, y_test)*100,3)}%')"
   ]
  },
  {
   "cell_type": "markdown",
   "metadata": {},
   "source": [
    "### Hyperparameter Tuning"
   ]
  },
  {
   "cell_type": "markdown",
   "metadata": {},
   "source": [
    "In the following I will explore tuning the random forest classifier model by testing the performance over a range of max_depth values. To do so fit a random forest classifier for max_depth values from 1-25 and save the accuracy score for the train and test sets in the lists accuracy_train, accuracy_test."
   ]
  },
  {
   "cell_type": "code",
   "execution_count": 26,
   "metadata": {},
   "outputs": [
    {
     "name": "stdout",
     "output_type": "stream",
     "text": [
      "The highest accuracy on the test set is achieved when max_depth: 12\n",
      "The highest accuracy on the test set is: 84.984%\n"
     ]
    }
   ],
   "source": [
    "# Set a random seed for reproducibility\n",
    "np.random.seed(0)\n",
    "\n",
    "# Initialize empty lists to store accuracy scores for the train and test sets\n",
    "accuracy_train = []\n",
    "accuracy_test = []\n",
    "\n",
    "# Define a range of max_depth values from 1 to 25\n",
    "depths = range(1, 26)\n",
    "\n",
    "# Iterate over each max_depth value and train a RandomForestClassifier\n",
    "for i in depths:\n",
    "    # Create a RandomForestClassifier with the current max_depth value\n",
    "    rf = RandomForestClassifier(max_depth=i)\n",
    "    \n",
    "    # Train the classifier on the training data\n",
    "    rf.fit(x_train, y_train)\n",
    "    \n",
    "    # Make predictions on the test data\n",
    "    y_pred = rf.predict(x_test)\n",
    "    \n",
    "    # Calculate and store the accuracy score for the test set\n",
    "    accuracy_test.append(accuracy_score(y_test, y_pred))\n",
    "    \n",
    "    # Calculate and store the accuracy score for the train set\n",
    "    accuracy_train.append(accuracy_score(y_train, rf.predict(x_train)))\n",
    "\n",
    "# Find the best accuracy and the corresponding max_depth value\n",
    "best_acc = np.max(accuracy_test)\n",
    "best_depth = depths[np.argmax(accuracy_test)]\n",
    "\n",
    "# Print the results\n",
    "print(f'The highest accuracy on the test set is achieved when max_depth: {best_depth}')\n",
    "print(f'The highest accuracy on the test set is: {round(best_acc * 100, 3)}%')"
   ]
  },
  {
   "cell_type": "code",
   "execution_count": 27,
   "metadata": {},
   "outputs": [
    {
     "data": {
      "image/png": "[encoded data removed]",
      "text/plain": [
       "<Figure size 640x480 with 1 Axes>"
      ]
     },
     "metadata": {},
     "output_type": "display_data"
    }
   ],
   "source": [
    "# Plot the accuracy scores for the test and train sets\n",
    "plt.plot(depths, accuracy_test, 'bo--', depths, accuracy_train, 'r*:')\n",
    "plt.legend(['test accuracy', 'train accuracy'])\n",
    "plt.xlabel('max depth')\n",
    "plt.ylabel('accuracy')\n",
    "\n",
    "# Add a vertical line at max_depth = best_depth\n",
    "plt.axvline(x=best_depth, color='k', linestyle='--', label='max_depth = 12')\n",
    "\n",
    "# Show the plot\n",
    "plt.show()"
   ]
  },
  {
   "cell_type": "markdown",
   "metadata": {},
   "source": [
    "**Summary:** <br>\n",
    "While an increasing max_depth increases the accuracy of our model on the train dataset, the accuracy of our model on the test dataset starts to decrease at max_depth = 12."
   ]
  },
  {
   "cell_type": "markdown",
   "metadata": {},
   "source": [
    "### Refit Random Forest Model Using Optiaml Max_Depth"
   ]
  },
  {
   "cell_type": "code",
   "execution_count": 14,
   "metadata": {},
   "outputs": [
    {
     "name": "stdout",
     "output_type": "stream",
     "text": [
      "Top 5 random forest features:\n",
      "          feature  importance\n",
      "1    capital-gain    0.370119\n",
      "0             age    0.248969\n",
      "3  hours-per-week    0.140480\n",
      "2    capital-loss    0.140439\n",
      "4        sex_Male    0.078258\n"
     ]
    }
   ],
   "source": [
    "# Create the best Random Forest model using the optimal max_depth\n",
    "best_rf = RandomForestClassifier(max_depth=best_depth)\n",
    "best_rf.fit(x_train, y_train)\n",
    "\n",
    "# Create a DataFrame to store feature importances\n",
    "feature_imp_df = pd.DataFrame({'feature': x_train.columns, 'importance': best_rf.feature_importances_})\n",
    "\n",
    "# Print the top 5 random forest features by importance\n",
    "print('Top 5 random forest features:')\n",
    "print(feature_imp_df.sort_values(by='importance', ascending=False).head(5))"
   ]
  },
  {
   "cell_type": "markdown",
   "metadata": {},
   "source": [
    "**Summary:**\n",
    "The output suggests that the Random Forest model, trained with the best `max_depth` parameter, identifies the following top 5 most important features for predicting income status:\n",
    "\n",
    "1. `capital-gain`\n",
    "2. `age`\n",
    "3. `hours-per-week`\n",
    "4. `capital-loss`\n",
    "5. `sex_Male`\n",
    "\n",
    "These features are considered the most influential in determining whether an individual's income is above or below the 50k threshold."
   ]
  },
  {
   "cell_type": "markdown",
   "metadata": {},
   "source": [
    "### Create Additional Features and Re-Tune"
   ]
  },
  {
   "cell_type": "markdown",
   "metadata": {},
   "source": [
    "Looking at the education feature, there are 16 unique values – from preschool to professional school. Rather than adding dummy variables for each value, it makes sense to bin some of these values together. While there are many ways to do this, I will take the approach of combining the values into 3 groups: High school and less, College to Bachelors and Masters and more."
   ]
  },
  {
   "cell_type": "code",
   "execution_count": 15,
   "metadata": {},
   "outputs": [],
   "source": [
    "# Create two new features, based on education and native country\n",
    "df['education_bin'] = pd.cut(df['education-num'], [0,9,13,16], labels=['HS or less', 'College to Bachelors', 'Masters or more'])\n",
    "\n",
    "feature_cols = ['age', 'capital-gain', 'capital-loss', 'hours-per-week', 'sex', 'race','education_bin']\n",
    "\n",
    "# Use these two new additional features and recreate X and test/train split\n",
    "X = pd.get_dummies(df[feature_cols], drop_first=True)\n",
    "\n",
    "x_train, x_test, y_train, y_test = train_test_split(X,y, random_state=1, test_size=.2)"
   ]
  },
  {
   "cell_type": "code",
   "execution_count": 29,
   "metadata": {},
   "outputs": [
    {
     "name": "stdout",
     "output_type": "stream",
     "text": [
      "The highest accuracy on the test set is achieved with max_depth: 9\n",
      "The highest accuracy on the test set is: 84.431%\n"
     ]
    }
   ],
   "source": [
    "# Set a random seed for reproducibility\n",
    "np.random.seed(0)\n",
    "\n",
    "# Initialize empty lists to store accuracy scores for the train and test sets\n",
    "accuracy_train = []\n",
    "accuracy_test = []\n",
    "\n",
    "# Define a range of max_depth values from 1 to 9\n",
    "depths = range(1, 10)\n",
    "\n",
    "# Iterate over each max_depth value and train a RandomForestClassifier\n",
    "for i in depths:\n",
    "    # Create a RandomForestClassifier with the current max_depth value\n",
    "    rf = RandomForestClassifier(max_depth=i)\n",
    "    \n",
    "    # Train the classifier on the training data\n",
    "    rf.fit(x_train, y_train)\n",
    "    \n",
    "    # Make predictions on the test data\n",
    "    y_pred = rf.predict(x_test)\n",
    "    \n",
    "    # Calculate and store the accuracy score for the test set\n",
    "    accuracy_test.append(accuracy_score(y_test, y_pred))\n",
    "    \n",
    "    # Calculate and store the accuracy score for the train set\n",
    "    accuracy_train.append(accuracy_score(y_train, rf.predict(x_train)))\n",
    "\n",
    "# Find the best accuracy and the corresponding max_depth value\n",
    "best_acc = np.max(accuracy_test)\n",
    "best_depth = depths[np.argmax(accuracy_test)]\n",
    "\n",
    "# Print the results\n",
    "print(f'The highest accuracy on the test set is achieved with max_depth: {best_depth}')\n",
    "print(f'The highest accuracy on the test set is: {round(best_acc * 100, 3)}%')"
   ]
  },
  {
   "cell_type": "code",
   "execution_count": 30,
   "metadata": {},
   "outputs": [
    {
     "data": {
      "image/png": "[encoded data removed]",
      "text/plain": [
       "<Figure size 640x480 with 1 Axes>"
      ]
     },
     "metadata": {},
     "output_type": "display_data"
    }
   ],
   "source": [
    "# Plot the accuracy scores for the test and train sets\n",
    "plt.figure(2)\n",
    "plt.plot(depths, accuracy_test, 'bo--', depths, accuracy_train, 'r*:')\n",
    "plt.legend(['test accuracy', 'train accuracy'])\n",
    "plt.xlabel('max depth')\n",
    "plt.ylabel('accuracy')\n",
    "\n",
    "# Add a vertical line at max_depth = 9\n",
    "plt.axvline(x=best_depth, color='k', linestyle='--', label='max_depth = 12')\n",
    "\n",
    "# Show the plot\n",
    "plt.show()"
   ]
  },
  {
   "cell_type": "markdown",
   "metadata": {},
   "source": [
    "**Summary:** <br>\n",
    "Unlike to the previous figure, we see that an increase in max_depth continues to increases the accuracy of our model on both the train and test dataset. However, the higher the max_depth the less the accuracy increases,ultimately leading the model's performance to plateau at max-depth."
   ]
  },
  {
   "cell_type": "code",
   "execution_count": 32,
   "metadata": {},
   "outputs": [
    {
     "name": "stdout",
     "output_type": "stream",
     "text": [
      "Top 5 random forest features:\n",
      "                          feature  importance\n",
      "1                    capital-gain    0.326836\n",
      "0                             age    0.201973\n",
      "10  education_bin_Masters or more    0.130849\n",
      "3                  hours-per-week    0.102162\n",
      "2                    capital-loss    0.095188\n"
     ]
    }
   ],
   "source": [
    "# Create the best Random Forest model using the optimal max_depth\n",
    "best_rf = RandomForestClassifier(max_depth=best_depth)\n",
    "best_rf.fit(x_train, y_train)\n",
    "\n",
    "# Create a DataFrame to store feature importances\n",
    "feature_imp_df = pd.DataFrame({'feature': x_train.columns, 'importance': best_rf.feature_importances_})\n",
    "\n",
    "# Print the top 5 random forest features by importance\n",
    "print('Top 5 random forest features:')\n",
    "print(feature_imp_df.sort_values(by='importance', ascending=False).head(5))"
   ]
  },
  {
   "cell_type": "markdown",
   "metadata": {},
   "source": [
    "**Summary:**\n",
    "Interestingly, after binning the education variable, the output of the Random Forest model, trained with the best `max_depth` parameter, identifies having a Masters degree or more among the top five predictors for  determining whether an individual's income is above or below the 50k threshold."
   ]
  }
 ],
 "metadata": {
  "kernelspec": {
   "display_name": "Python 3",
   "language": "python",
   "name": "python3"
  },
  "language_info": {
   "codemirror_mode": {
    "name": "ipython",
    "version": 3
   },
   "file_extension": ".py",
   "mimetype": "text/x-python",
   "name": "python",
   "nbconvert_exporter": "python",
   "pygments_lexer": "ipython3",
   "version": "3.11.5"
  }
 },
 "nbformat": 4,
 "nbformat_minor": 4
}
